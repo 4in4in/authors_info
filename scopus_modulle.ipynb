{
 "metadata": {
  "language_info": {
   "codemirror_mode": {
    "name": "ipython",
    "version": 3
   },
   "file_extension": ".py",
   "mimetype": "text/x-python",
   "name": "python",
   "nbconvert_exporter": "python",
   "pygments_lexer": "ipython3",
   "version": "3.8.5"
  },
  "orig_nbformat": 2,
  "kernelspec": {
   "name": "python385jvsc74a57bd031f2aee4e71d21fbe5cf8b01ff0e069b9275f58929596ceb00d14d90e3e16cd6",
   "display_name": "Python 3.8.5 64-bit"
  },
  "metadata": {
   "interpreter": {
    "hash": "31f2aee4e71d21fbe5cf8b01ff0e069b9275f58929596ceb00d14d90e3e16cd6"
   }
  }
 },
 "nbformat": 4,
 "nbformat_minor": 2,
 "cells": [
  {
   "cell_type": "code",
   "execution_count": 10,
   "metadata": {},
   "outputs": [
    {
     "output_type": "stream",
     "name": "stdout",
     "text": [
      "Defaulting to user installation because normal site-packages is not writeable\n",
      "Requirement already satisfied: pyscopus in /home/alex/.local/lib/python3.8/site-packages (1.0.3)\n",
      "\u001b[33mWARNING: You are using pip version 21.0.1; however, version 21.1.2 is available.\n",
      "You should consider upgrading via the '/usr/bin/python3 -m pip install --upgrade pip' command.\u001b[0m\n",
      "Defaulting to user installation because normal site-packages is not writeable\n",
      "Requirement already satisfied: numpy in /home/alex/.local/lib/python3.8/site-packages (1.20.3)\n",
      "\u001b[33mWARNING: You are using pip version 21.0.1; however, version 21.1.2 is available.\n",
      "You should consider upgrading via the '/usr/bin/python3 -m pip install --upgrade pip' command.\u001b[0m\n",
      "Defaulting to user installation because normal site-packages is not writeable\n",
      "Collecting pandas\n",
      "  Using cached pandas-1.2.4-cp38-cp38-manylinux1_x86_64.whl (9.7 MB)\n",
      "Requirement already satisfied: numpy>=1.16.5 in /home/alex/.local/lib/python3.8/site-packages (from pandas) (1.20.3)\n",
      "Requirement already satisfied: python-dateutil>=2.7.3 in /usr/lib/python3/dist-packages (from pandas) (2.7.3)\n",
      "Requirement already satisfied: pytz>=2017.3 in /home/alex/.local/lib/python3.8/site-packages (from pandas) (2021.1)\n",
      "Installing collected packages: pandas\n",
      "Successfully installed pandas-1.2.4\n",
      "\u001b[33mWARNING: You are using pip version 21.0.1; however, version 21.1.2 is available.\n",
      "You should consider upgrading via the '/usr/bin/python3 -m pip install --upgrade pip' command.\u001b[0m\n"
     ]
    }
   ],
   "source": [
    "! pip install pyscopus\n",
    "! pip install numpy\n",
    "! pip install pandas"
   ]
  },
  {
   "cell_type": "code",
   "execution_count": 13,
   "metadata": {},
   "outputs": [],
   "source": [
    "from pyscopus import Scopus\n",
    "key = '35179f93ddd439953a50c9d282ef5eb5'\n",
    "scopus = Scopus(key)"
   ]
  },
  {
   "cell_type": "code",
   "execution_count": 14,
   "metadata": {},
   "outputs": [
    {
     "output_type": "execute_result",
     "data": {
      "text/plain": [
       "     author_id       name  document_count         affiliation affiliation_id\n",
       "0  36635367700  Kang Zhao              62  University of Iowa       60024324"
      ],
      "text/html": "<div>\n<style scoped>\n    .dataframe tbody tr th:only-of-type {\n        vertical-align: middle;\n    }\n\n    .dataframe tbody tr th {\n        vertical-align: top;\n    }\n\n    .dataframe thead th {\n        text-align: right;\n    }\n</style>\n<table border=\"1\" class=\"dataframe\">\n  <thead>\n    <tr style=\"text-align: right;\">\n      <th></th>\n      <th>author_id</th>\n      <th>name</th>\n      <th>document_count</th>\n      <th>affiliation</th>\n      <th>affiliation_id</th>\n    </tr>\n  </thead>\n  <tbody>\n    <tr>\n      <th>0</th>\n      <td>36635367700</td>\n      <td>Kang Zhao</td>\n      <td>62</td>\n      <td>University of Iowa</td>\n      <td>60024324</td>\n    </tr>\n  </tbody>\n</table>\n</div>"
     },
     "metadata": {},
     "execution_count": 14
    }
   ],
   "source": [
    "author_result_df = scopus.search_author('AUTHLASTNAME(Zhao) and AUTHFIRST(Kang) and AFFIL(Iowa)')\n",
    "author_result_df"
   ]
  },
  {
   "cell_type": "code",
   "execution_count": 22,
   "metadata": {},
   "outputs": [
    {
     "output_type": "execute_result",
     "data": {
      "text/plain": [
       "      scopus_id                                              title  \\\n",
       "0   85097010482  Predicting users' continued engagement in onli...   \n",
       "1   85091682260  Understanding and predicting future research i...   \n",
       "2   85095123546  Predicting User Posting Activities in Online H...   \n",
       "3   85092516173  Learning Embeddings Based on Global Structural...   \n",
       "4   85064833160  Thinking in Public about Public Affairs: Rejoi...   \n",
       "..          ...                                                ...   \n",
       "57  84900416876  Who blogs what: Understanding behavior, impact...   \n",
       "58  84890117453  A formal model for emerging coalitions under n...   \n",
       "59  84903827049  Effect of topology on the robustness of supply...   \n",
       "60  51849108140  CyberLab: An online virtual laboratory toolkit...   \n",
       "61  84905571525  Building global bridges: Coordination bodies f...   \n",
       "\n",
       "                                     publication_name      issn  \\\n",
       "0   Journal of the Association for Information Sci...  23301635   \n",
       "1   Journal of the Association for Information Sci...  23301635   \n",
       "2   ACM Transactions on Management Information Sys...  2158656X   \n",
       "3                            IEEE Intelligent Systems  15411672   \n",
       "4                              Policy Studies Journal  0190292X   \n",
       "..                                                ...       ...   \n",
       "57  Proceedings of 20th Annual Workshop on Informa...      None   \n",
       "58  Spring Simulation Multiconference 2009 - Co-lo...      None   \n",
       "59  19th Workshop on Information Technologies and ...      None   \n",
       "60  Proceedings - The 8th IEEE International Confe...      None   \n",
       "61  Proceedings of ISCRAM 2008 - 5th International...      None   \n",
       "\n",
       "                                        isbn     eissn volume page_range  \\\n",
       "0                                       None  23301643     72    710-722   \n",
       "1                                       None  23301643     72    454-472   \n",
       "2                                       None  21586578     11       None   \n",
       "3                                       None  19411294   None       None   \n",
       "4                                       None  15410072     47  S186-S188   \n",
       "..                                       ...       ...    ...        ...   \n",
       "57                                      None      None   None       None   \n",
       "58                                      None      None   None       None   \n",
       "59                                      None      None   None     97-102   \n",
       "60  [{'@_fa': 'true', '$': '9780769531670'}]      None   None    316-318   \n",
       "61  [{'@_fa': 'true', '$': '9780615206974'}]      None   None    471-483   \n",
       "\n",
       "    cover_date                       doi  citation_count  \\\n",
       "0   2021-06-01         10.1002/asi.24436               0   \n",
       "1   2021-04-01         10.1002/asi.24415               0   \n",
       "2   2020-08-01           10.1145/3383780               1   \n",
       "3   2020-01-01  10.1109/MIS.2020.3027677               0   \n",
       "4   2019-05-01         10.1111/psj.12323               1   \n",
       "..         ...                       ...             ...   \n",
       "57  2010-01-01                      None               1   \n",
       "58  2009-03-22                      None               4   \n",
       "59  2009-01-01                      None               0   \n",
       "60  2008-09-22    10.1109/ICALT.2008.206               1   \n",
       "61  2008-01-01                      None              25   \n",
       "\n",
       "                                          affiliation       aggregation_type  \\\n",
       "0   [{'name': 'University of Iowa', 'city': 'Iowa ...                Journal   \n",
       "1   [{'name': 'University of Iowa', 'city': 'Iowa ...                Journal   \n",
       "2   [{'name': 'University of Iowa', 'city': 'Iowa ...                Journal   \n",
       "3   [{'name': 'University of Iowa', 'city': 'Iowa ...                Journal   \n",
       "4   [{'name': 'University of Iowa', 'city': 'Iowa ...                Journal   \n",
       "..                                                ...                    ...   \n",
       "57  [{'name': 'Penn State Smeal College of Busines...  Conference Proceeding   \n",
       "58  [{'name': 'Pennsylvania State University', 'ci...  Conference Proceeding   \n",
       "59  [{'name': 'Penn State Smeal College of Busines...  Conference Proceeding   \n",
       "60  [{'name': 'Eastern Michigan University', 'city...  Conference Proceeding   \n",
       "61  [{'name': 'Pennsylvania State University', 'ci...  Conference Proceeding   \n",
       "\n",
       "   subtype_description                                            authors  \\\n",
       "0              Article  [56976465300, 27168028900, 56226310300, 366353...   \n",
       "1              Article                         [57189222659, 36635367700]   \n",
       "2     Conference Paper  [56976465300, 36635367700, 57211748095, 556629...   \n",
       "3              Article  [57219381157, 7102694556, 57220546273, 3663536...   \n",
       "4     Conference Paper            [36814249600, 36635367700, 57189222659]   \n",
       "..                 ...                                                ...   \n",
       "57    Conference Paper  [36635367700, 56169882200, 56244115000, 353152...   \n",
       "58    Conference Paper  [36635367700, 35315269400, 6603916040, 7005228...   \n",
       "59    Conference Paper            [36635367700, 56169882200, 35315269400]   \n",
       "60    Conference Paper                          [36635367700, 6602366347]   \n",
       "61    Conference Paper  [15060629400, 35607298200, 36731387500, 555214...   \n",
       "\n",
       "   full_text  \n",
       "0       None  \n",
       "1       None  \n",
       "2       None  \n",
       "3       None  \n",
       "4       None  \n",
       "..       ...  \n",
       "57      None  \n",
       "58      None  \n",
       "59      None  \n",
       "60      None  \n",
       "61      None  \n",
       "\n",
       "[62 rows x 16 columns]"
      ],
      "text/html": "<div>\n<style scoped>\n    .dataframe tbody tr th:only-of-type {\n        vertical-align: middle;\n    }\n\n    .dataframe tbody tr th {\n        vertical-align: top;\n    }\n\n    .dataframe thead th {\n        text-align: right;\n    }\n</style>\n<table border=\"1\" class=\"dataframe\">\n  <thead>\n    <tr style=\"text-align: right;\">\n      <th></th>\n      <th>scopus_id</th>\n      <th>title</th>\n      <th>publication_name</th>\n      <th>issn</th>\n      <th>isbn</th>\n      <th>eissn</th>\n      <th>volume</th>\n      <th>page_range</th>\n      <th>cover_date</th>\n      <th>doi</th>\n      <th>citation_count</th>\n      <th>affiliation</th>\n      <th>aggregation_type</th>\n      <th>subtype_description</th>\n      <th>authors</th>\n      <th>full_text</th>\n    </tr>\n  </thead>\n  <tbody>\n    <tr>\n      <th>0</th>\n      <td>85097010482</td>\n      <td>Predicting users' continued engagement in onli...</td>\n      <td>Journal of the Association for Information Sci...</td>\n      <td>23301635</td>\n      <td>None</td>\n      <td>23301643</td>\n      <td>72</td>\n      <td>710-722</td>\n      <td>2021-06-01</td>\n      <td>10.1002/asi.24436</td>\n      <td>0</td>\n      <td>[{'name': 'University of Iowa', 'city': 'Iowa ...</td>\n      <td>Journal</td>\n      <td>Article</td>\n      <td>[56976465300, 27168028900, 56226310300, 366353...</td>\n      <td>None</td>\n    </tr>\n    <tr>\n      <th>1</th>\n      <td>85091682260</td>\n      <td>Understanding and predicting future research i...</td>\n      <td>Journal of the Association for Information Sci...</td>\n      <td>23301635</td>\n      <td>None</td>\n      <td>23301643</td>\n      <td>72</td>\n      <td>454-472</td>\n      <td>2021-04-01</td>\n      <td>10.1002/asi.24415</td>\n      <td>0</td>\n      <td>[{'name': 'University of Iowa', 'city': 'Iowa ...</td>\n      <td>Journal</td>\n      <td>Article</td>\n      <td>[57189222659, 36635367700]</td>\n      <td>None</td>\n    </tr>\n    <tr>\n      <th>2</th>\n      <td>85095123546</td>\n      <td>Predicting User Posting Activities in Online H...</td>\n      <td>ACM Transactions on Management Information Sys...</td>\n      <td>2158656X</td>\n      <td>None</td>\n      <td>21586578</td>\n      <td>11</td>\n      <td>None</td>\n      <td>2020-08-01</td>\n      <td>10.1145/3383780</td>\n      <td>1</td>\n      <td>[{'name': 'University of Iowa', 'city': 'Iowa ...</td>\n      <td>Journal</td>\n      <td>Conference Paper</td>\n      <td>[56976465300, 36635367700, 57211748095, 556629...</td>\n      <td>None</td>\n    </tr>\n    <tr>\n      <th>3</th>\n      <td>85092516173</td>\n      <td>Learning Embeddings Based on Global Structural...</td>\n      <td>IEEE Intelligent Systems</td>\n      <td>15411672</td>\n      <td>None</td>\n      <td>19411294</td>\n      <td>None</td>\n      <td>None</td>\n      <td>2020-01-01</td>\n      <td>10.1109/MIS.2020.3027677</td>\n      <td>0</td>\n      <td>[{'name': 'University of Iowa', 'city': 'Iowa ...</td>\n      <td>Journal</td>\n      <td>Article</td>\n      <td>[57219381157, 7102694556, 57220546273, 3663536...</td>\n      <td>None</td>\n    </tr>\n    <tr>\n      <th>4</th>\n      <td>85064833160</td>\n      <td>Thinking in Public about Public Affairs: Rejoi...</td>\n      <td>Policy Studies Journal</td>\n      <td>0190292X</td>\n      <td>None</td>\n      <td>15410072</td>\n      <td>47</td>\n      <td>S186-S188</td>\n      <td>2019-05-01</td>\n      <td>10.1111/psj.12323</td>\n      <td>1</td>\n      <td>[{'name': 'University of Iowa', 'city': 'Iowa ...</td>\n      <td>Journal</td>\n      <td>Conference Paper</td>\n      <td>[36814249600, 36635367700, 57189222659]</td>\n      <td>None</td>\n    </tr>\n    <tr>\n      <th>...</th>\n      <td>...</td>\n      <td>...</td>\n      <td>...</td>\n      <td>...</td>\n      <td>...</td>\n      <td>...</td>\n      <td>...</td>\n      <td>...</td>\n      <td>...</td>\n      <td>...</td>\n      <td>...</td>\n      <td>...</td>\n      <td>...</td>\n      <td>...</td>\n      <td>...</td>\n      <td>...</td>\n    </tr>\n    <tr>\n      <th>57</th>\n      <td>84900416876</td>\n      <td>Who blogs what: Understanding behavior, impact...</td>\n      <td>Proceedings of 20th Annual Workshop on Informa...</td>\n      <td>None</td>\n      <td>None</td>\n      <td>None</td>\n      <td>None</td>\n      <td>None</td>\n      <td>2010-01-01</td>\n      <td>None</td>\n      <td>1</td>\n      <td>[{'name': 'Penn State Smeal College of Busines...</td>\n      <td>Conference Proceeding</td>\n      <td>Conference Paper</td>\n      <td>[36635367700, 56169882200, 56244115000, 353152...</td>\n      <td>None</td>\n    </tr>\n    <tr>\n      <th>58</th>\n      <td>84890117453</td>\n      <td>A formal model for emerging coalitions under n...</td>\n      <td>Spring Simulation Multiconference 2009 - Co-lo...</td>\n      <td>None</td>\n      <td>None</td>\n      <td>None</td>\n      <td>None</td>\n      <td>None</td>\n      <td>2009-03-22</td>\n      <td>None</td>\n      <td>4</td>\n      <td>[{'name': 'Pennsylvania State University', 'ci...</td>\n      <td>Conference Proceeding</td>\n      <td>Conference Paper</td>\n      <td>[36635367700, 35315269400, 6603916040, 7005228...</td>\n      <td>None</td>\n    </tr>\n    <tr>\n      <th>59</th>\n      <td>84903827049</td>\n      <td>Effect of topology on the robustness of supply...</td>\n      <td>19th Workshop on Information Technologies and ...</td>\n      <td>None</td>\n      <td>None</td>\n      <td>None</td>\n      <td>None</td>\n      <td>97-102</td>\n      <td>2009-01-01</td>\n      <td>None</td>\n      <td>0</td>\n      <td>[{'name': 'Penn State Smeal College of Busines...</td>\n      <td>Conference Proceeding</td>\n      <td>Conference Paper</td>\n      <td>[36635367700, 56169882200, 35315269400]</td>\n      <td>None</td>\n    </tr>\n    <tr>\n      <th>60</th>\n      <td>51849108140</td>\n      <td>CyberLab: An online virtual laboratory toolkit...</td>\n      <td>Proceedings - The 8th IEEE International Confe...</td>\n      <td>None</td>\n      <td>[{'@_fa': 'true', '$': '9780769531670'}]</td>\n      <td>None</td>\n      <td>None</td>\n      <td>316-318</td>\n      <td>2008-09-22</td>\n      <td>10.1109/ICALT.2008.206</td>\n      <td>1</td>\n      <td>[{'name': 'Eastern Michigan University', 'city...</td>\n      <td>Conference Proceeding</td>\n      <td>Conference Paper</td>\n      <td>[36635367700, 6602366347]</td>\n      <td>None</td>\n    </tr>\n    <tr>\n      <th>61</th>\n      <td>84905571525</td>\n      <td>Building global bridges: Coordination bodies f...</td>\n      <td>Proceedings of ISCRAM 2008 - 5th International...</td>\n      <td>None</td>\n      <td>[{'@_fa': 'true', '$': '9780615206974'}]</td>\n      <td>None</td>\n      <td>None</td>\n      <td>471-483</td>\n      <td>2008-01-01</td>\n      <td>None</td>\n      <td>25</td>\n      <td>[{'name': 'Pennsylvania State University', 'ci...</td>\n      <td>Conference Proceeding</td>\n      <td>Conference Paper</td>\n      <td>[15060629400, 35607298200, 36731387500, 555214...</td>\n      <td>None</td>\n    </tr>\n  </tbody>\n</table>\n<p>62 rows × 16 columns</p>\n</div>"
     },
     "metadata": {},
     "execution_count": 22
    }
   ],
   "source": [
    "kang_pub_df = scopus.search_author_publication('36635367700')\n",
    "kang_pub_df"
   ]
  },
  {
   "cell_type": "code",
   "execution_count": null,
   "metadata": {},
   "outputs": [],
   "source": []
  }
 ]
}